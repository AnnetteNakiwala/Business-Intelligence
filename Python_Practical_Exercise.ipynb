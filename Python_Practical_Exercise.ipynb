{
  "nbformat": 4,
  "nbformat_minor": 0,
  "metadata": {
    "colab": {
      "provenance": [],
      "toc_visible": true,
      "include_colab_link": true
    },
    "kernelspec": {
      "name": "python3",
      "display_name": "Python 3"
    },
    "language_info": {
      "name": "python"
    }
  },
  "cells": [
    {
      "cell_type": "markdown",
      "metadata": {
        "id": "view-in-github",
        "colab_type": "text"
      },
      "source": [
        "<a href=\"https://colab.research.google.com/github/AnnetteNakiwala/Business-Intelligence/blob/main/Python_Practical_Exercise.ipynb\" target=\"_parent\"><img src=\"https://colab.research.google.com/assets/colab-badge.svg\" alt=\"Open In Colab\"/></a>"
      ]
    },
    {
      "cell_type": "code",
      "source": [
        "# Using calculate area function, Write a python program to calculate the area of a circle. \n",
        "# Your program should accept the radius from a user. You can assume that the user provides valid inputs only\n"
      ],
      "metadata": {
        "id": "1UyNfY4inOUt"
      },
      "execution_count": null,
      "outputs": []
    },
    {
      "cell_type": "code",
      "source": [
        "import math  \n",
        "  \n",
        "def area_of_the_circle (Radius):   \n",
        "    area = Radius** 2 * math.pi  \n",
        "    return area \n",
        "\n",
        "Radius = float(input(\"7\"))\n",
        "Print(\"The area of a given circle is:\",(Raduis)) "
      ],
      "metadata": {
        "id": "1zvZKS9w5trg",
        "colab": {
          "base_uri": "https://localhost:8080/",
          "height": 218
        },
        "outputId": "faeba9e1-90c1-4210-b893-e8b6d36412b3"
      },
      "execution_count": null,
      "outputs": [
        {
          "name": "stdout",
          "output_type": "stream",
          "text": [
            "77\n"
          ]
        },
        {
          "output_type": "error",
          "ename": "NameError",
          "evalue": "ignored",
          "traceback": [
            "\u001b[0;31m---------------------------------------------------------------------------\u001b[0m",
            "\u001b[0;31mNameError\u001b[0m                                 Traceback (most recent call last)",
            "\u001b[0;32m<ipython-input-1-2195ec798df1>\u001b[0m in \u001b[0;36m<module>\u001b[0;34m\u001b[0m\n\u001b[1;32m      6\u001b[0m \u001b[0;34m\u001b[0m\u001b[0m\n\u001b[1;32m      7\u001b[0m \u001b[0mRadius\u001b[0m \u001b[0;34m=\u001b[0m \u001b[0mfloat\u001b[0m\u001b[0;34m(\u001b[0m\u001b[0minput\u001b[0m\u001b[0;34m(\u001b[0m\u001b[0;34m\"7\"\u001b[0m\u001b[0;34m)\u001b[0m\u001b[0;34m)\u001b[0m\u001b[0;34m\u001b[0m\u001b[0;34m\u001b[0m\u001b[0m\n\u001b[0;32m----> 8\u001b[0;31m \u001b[0mPrint\u001b[0m \u001b[0;34m(\u001b[0m\u001b[0;34m\"The area of a given circle is:\"\u001b[0m\u001b[0;34m,\u001b[0m\u001b[0;34m(\u001b[0m\u001b[0mRaduis\u001b[0m\u001b[0;34m)\u001b[0m\u001b[0;34m)\u001b[0m\u001b[0;34m\u001b[0m\u001b[0;34m\u001b[0m\u001b[0m\n\u001b[0m",
            "\u001b[0;31mNameError\u001b[0m: name 'Print' is not defined"
          ]
        }
      ]
    },
    {
      "cell_type": "code",
      "execution_count": null,
      "metadata": {
        "id": "zCzE89OanFN_",
        "colab": {
          "base_uri": "https://localhost:8080/"
        },
        "outputId": "f3a5cdcd-aa20-4b7a-9f2e-51f966524829"
      },
      "outputs": [
        {
          "output_type": "stream",
          "name": "stdout",
          "text": [
            "The average of numbers = 25.00\n"
          ]
        }
      ],
      "source": [
        "# Write a python program to accept two numbers from a user and print the average of them\n",
        "#first number\n",
        "num1 = 30\n",
        "# second number\n",
        "num2 = 20\n",
        "\n",
        "# calculate average of those numbers\n",
        "avg = (num1 + num2) / 2\n",
        "\n",
        "# print average value\n",
        "print('The average of numbers = %0.2f' %avg)"
      ]
    },
    {
      "cell_type": "markdown",
      "source": [
        "**Qn3** : Assume that there is an application where users supply some\n",
        "valid numbers only. It is because you do not need to write extra\n",
        "code to validate the input. Now write a python program where a\n",
        "user can keep supplying the numbers, and for each input, it can\n",
        "print whether it is a positive number or not. The program will end\n",
        "when the user types quit."
      ],
      "metadata": {
        "id": "3-XOW6uuoLsc"
      }
    },
    {
      "cell_type": "code",
      "source": [
        "while True:\n",
        "    num = int(input(\"Enter a positive integer: \"))\n",
        "    if num > 0:\n",
        "        print(f\"{num} is positive\")\n",
        "        break\n"
      ],
      "metadata": {
        "id": "2a9CJmWaqrHr",
        "colab": {
          "base_uri": "https://localhost:8080/"
        },
        "outputId": "e2834bbb-174b-4a33-88e0-d0cb670e033e"
      },
      "execution_count": null,
      "outputs": [
        {
          "output_type": "stream",
          "name": "stdout",
          "text": [
            "Enter a positive integer: 4\n",
            "4 is positive\n"
          ]
        }
      ]
    },
    {
      "cell_type": "code",
      "source": [
        "while True:\n",
        "    num = int(input(\"Enter a positive integer: \"))\n",
        "    if num > 0:\n",
        "        print(f\"{num} is positive\")\n",
        "        break"
      ],
      "metadata": {
        "id": "Gz71i0DWBZ9E"
      },
      "execution_count": null,
      "outputs": []
    },
    {
      "cell_type": "markdown",
      "source": [
        "**Qn 4:** reate a list of numbers including integers and floats. Make\n",
        "sure that you have at least 5 numbers.\n",
        "Using a for loop, print the content of this list.\n",
        "\n",
        "1.   List item\n",
        "2.   List item\n",
        "\n",
        "\n",
        "Print the elements from index position 2 to 5."
      ],
      "metadata": {
        "id": "Pu_GsWh5pd4s"
      }
    },
    {
      "cell_type": "code",
      "source": [
        "# Your code here"
      ],
      "metadata": {
        "id": "gzno5UJsqplL"
      },
      "execution_count": null,
      "outputs": []
    },
    {
      "cell_type": "code",
      "source": [
        "# Write a Python program to create a Vehicle class with max_speed and mileage instance attributes."
      ],
      "metadata": {
        "id": "o6520HPBqmm7"
      },
      "execution_count": null,
      "outputs": []
    },
    {
      "cell_type": "markdown",
      "source": [
        "# New section"
      ],
      "metadata": {
        "id": "kK-yMTbLIN-H"
      }
    },
    {
      "cell_type": "code",
      "source": [
        "# Create a Bus object that will inherit all of the variables and methods of the parent Vehicle class and display it."
      ],
      "metadata": {
        "id": "9bQj7Eo5qomy"
      },
      "execution_count": null,
      "outputs": []
    },
    {
      "cell_type": "code",
      "source": [
        "# Create a Bus class that inherits from the Vehicle class. Give the capacity argument of Bus.seating_capacity() a default value of 50."
      ],
      "metadata": {
        "id": "fn1K2D5zq-uD"
      },
      "execution_count": null,
      "outputs": []
    },
    {
      "cell_type": "code",
      "source": [
        "# Create a Bus class that inherits from the Vehicle class. Give the capacity argument of Bus.seating_capacity() a default value of 50."
      ],
      "metadata": {
        "id": "djZNwz04rRdT"
      },
      "execution_count": null,
      "outputs": []
    },
    {
      "cell_type": "code",
      "source": [],
      "metadata": {
        "id": "-Q7Hy5dp-eV6"
      },
      "execution_count": null,
      "outputs": []
    }
  ]
}