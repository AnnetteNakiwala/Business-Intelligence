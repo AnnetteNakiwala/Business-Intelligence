{
  "nbformat": 4,
  "nbformat_minor": 0,
  "metadata": {
    "colab": {
      "provenance": [],
      "include_colab_link": true
    },
    "kernelspec": {
      "name": "python3",
      "display_name": "Python 3"
    },
    "language_info": {
      "name": "python"
    }
  },
  "cells": [
    {
      "cell_type": "markdown",
      "metadata": {
        "id": "view-in-github",
        "colab_type": "text"
      },
      "source": [
        "<a href=\"https://colab.research.google.com/github/AnnetteNakiwala/Business-Intelligence/blob/main/Python_Practical_Exercise.ipynb\" target=\"_parent\"><img src=\"https://colab.research.google.com/assets/colab-badge.svg\" alt=\"Open In Colab\"/></a>"
      ]
    },
    {
      "cell_type": "code",
      "source": [
        "# Using calculate area function, Write a python program to calculate the area of a circle. \n",
        "# Your program should accept the radius from a user. You can assume that the user provides valid inputs only\n"
      ],
      "metadata": {
        "id": "1UyNfY4inOUt"
      },
      "execution_count": null,
      "outputs": []
    },
    {
      "cell_type": "code",
      "source": [
        "import math  \n",
        "  \n",
        "def area_of_the_circle (Radius):   \n",
        "    area = Radius** 2 * math.pi  \n",
        "    return area \n",
        "\n",
        "Radius = float(input(\"7\"))\n",
        "Print (\"The area of a given circle is:\",(Raduis)) "
      ],
      "metadata": {
        "id": "1zvZKS9w5trg"
      },
      "execution_count": null,
      "outputs": []
    },
    {
      "cell_type": "code",
      "execution_count": null,
      "metadata": {
        "id": "zCzE89OanFN_"
      },
      "outputs": [],
      "source": [
        "# Write a python program to accept two numbers from a user and print the average of them\n",
        "#first number\n",
        "num1 = 30\n",
        "# second number\n",
        "num2 = 20\n",
        "\n",
        "# calculate average of those numbers\n",
        "avg = (num1 + num2) / 2\n",
        "\n",
        "# print average value\n",
        "print('The average of numbers = %0.2f' %avg)"
      ]
    },
    {
      "cell_type": "markdown",
      "source": [
        "**Qn3** : Assume that there is an application where users supply some\n",
        "valid numbers only. It is because you do not need to write extra\n",
        "code to validate the input. Now write a python program where a\n",
        "user can keep supplying the numbers, and for each input, it can\n",
        "print whether it is a positive number or not. The program will end\n",
        "when the user types quit."
      ],
      "metadata": {
        "id": "3-XOW6uuoLsc"
      }
    },
    {
      "cell_type": "code",
      "source": [
        "while True:\n",
        "    num = int(input(\"Enter a positive integer: \"))\n",
        "    if num > 0:\n",
        "        print(f\"{num} is positive\")\n",
        "        break\n"
      ],
      "metadata": {
        "id": "2a9CJmWaqrHr"
      },
      "execution_count": null,
      "outputs": []
    },
    {
      "cell_type": "markdown",
      "source": [
        "**Qn 4:** reate a list of numbers including integers and floats. Make\n",
        "sure that you have at least 5 numbers.\n",
        "Using a for loop, print the content of this list.\n",
        "\n",
        "1.   List item\n",
        "2.   List item\n",
        "\n",
        "\n",
        "Print the elements from index position 2 to 5."
      ],
      "metadata": {
        "id": "Pu_GsWh5pd4s"
      }
    },
    {
      "cell_type": "code",
      "source": [],
      "metadata": {
        "id": "gzno5UJsqplL"
      },
      "execution_count": null,
      "outputs": []
    },
    {
      "cell_type": "code",
      "source": [
        "# Write a Python program to create a Vehicle class with max_speed and mileage instance attributes."
      ],
      "metadata": {
        "id": "o6520HPBqmm7"
      },
      "execution_count": null,
      "outputs": []
    },
    {
      "cell_type": "code",
      "source": [
        "class Vehicle:\n",
        "    def __init__(self, max_speed, mileage):\n",
        "        self.max_speed = max_speed\n",
        "        self.mileage = mileage\n",
        "\n",
        "modelX = Vehicle(240, 18)\n",
        "print(modelX.max_speed, modelX.mileage)"
      ],
      "metadata": {
        "id": "Bj8wkXpp-jUK"
      },
      "execution_count": null,
      "outputs": []
    },
    {
      "cell_type": "code",
      "source": [
        "# Create a Bus object that will inherit all of the variables and methods of the parent Vehicle class and display it."
      ],
      "metadata": {
        "id": "9bQj7Eo5qomy"
      },
      "execution_count": null,
      "outputs": []
    },
    {
      "cell_type": "code",
      "source": [
        "class Vehicle:\n",
        "\n",
        "    def __init__(self, name, max_speed, mileage):\n",
        "        self.name = name\n",
        "        self.max_speed = max_speed\n",
        "        self.mileage = mileage"
      ],
      "metadata": {
        "id": "RfKoPuzO_s-U"
      },
      "execution_count": null,
      "outputs": []
    },
    {
      "cell_type": "code",
      "source": [
        "# Create a Bus class that inherits from the Vehicle class. Give the capacity argument of Bus.seating_capacity() a default value of 50."
      ],
      "metadata": {
        "id": "fn1K2D5zq-uD"
      },
      "execution_count": null,
      "outputs": []
    },
    {
      "cell_type": "code",
      "source": [
        "class Vehicle:\n",
        "    def __init__(self, name, max_speed, mileage):\n",
        "        self.name = name\n",
        "        self.max_speed = max_speed\n",
        "        self.mileage = mileage\n",
        "\n",
        "    def seating_capacity(self, capacity):\n",
        "        return f\"The seating capacity of a {self.name} is {capacity} passengers\""
      ],
      "metadata": {
        "id": "zHPvUHR4BDJR"
      },
      "execution_count": null,
      "outputs": []
    },
    {
      "cell_type": "code",
      "source": [
        "# Create a Bus class that inherits from the Vehicle class. Give the capacity argument of Bus.seating_capacity() a default value of 50."
      ],
      "metadata": {
        "id": "djZNwz04rRdT"
      },
      "execution_count": null,
      "outputs": []
    },
    {
      "cell_type": "code",
      "source": [
        "class Vehicle:\n",
        "    def __init__(self, name, max_speed, mileage):\n",
        "        self.name = name\n",
        "        self.max_speed = max_speed\n",
        "        self.mileage = mileage\n",
        "\n",
        "    def seating_capacity(self, capacity):\n",
        "        return f\"The seating capacity of a {self.name} is {capacity} passengers\""
      ],
      "metadata": {
        "id": "y08gwA6NBrEx"
      },
      "execution_count": null,
      "outputs": []
    }
  ]
}