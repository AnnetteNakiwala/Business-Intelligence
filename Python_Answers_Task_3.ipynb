{
  "nbformat": 4,
  "nbformat_minor": 0,
  "metadata": {
    "colab": {
      "provenance": [],
      "authorship_tag": "ABX9TyNebmd/y8qVUGmSOimnSfPX",
      "include_colab_link": true
    },
    "kernelspec": {
      "name": "python3",
      "display_name": "Python 3"
    },
    "language_info": {
      "name": "python"
    }
  },
  "cells": [
    {
      "cell_type": "markdown",
      "metadata": {
        "id": "view-in-github",
        "colab_type": "text"
      },
      "source": [
        "<a href=\"https://colab.research.google.com/github/AnnetteNakiwala/Business-Intelligence/blob/main/Python_Answers_Task_3.ipynb\" target=\"_parent\"><img src=\"https://colab.research.google.com/assets/colab-badge.svg\" alt=\"Open In Colab\"/></a>"
      ]
    },
    {
      "cell_type": "markdown",
      "source": [
        "  # write a python code for calculatmg the Area and Perimeter of a Rectangle"
      ],
      "metadata": {
        "id": "lOJNk43xsEkB"
      }
    },
    {
      "cell_type": "code",
      "source": [
        "a = 2\n",
        "b = 3\n",
        "area = a*b\n",
        "perimeter = 2 * (a+b)\n",
        "\n",
        "print(area) #printing the area\n",
        "\n",
        "print(perimeter)#printing peri"
      ],
      "metadata": {
        "colab": {
          "base_uri": "https://localhost:8080/"
        },
        "id": "hl0GdK53suQm",
        "outputId": "a8dcb92a-c9f9-425e-ce64-ff4690543272"
      },
      "execution_count": 15,
      "outputs": [
        {
          "output_type": "stream",
          "name": "stdout",
          "text": [
            "6\n",
            "10\n"
          ]
        }
      ]
    },
    {
      "cell_type": "markdown",
      "source": [
        "#Write a python code for calculating the area and volume of the cube."
      ],
      "metadata": {
        "id": "IqPyJ5DqsgRz"
      }
    },
    {
      "cell_type": "code",
      "source": [
        "a = 30\n",
        "area = 6 * a * a\n",
        "volume = a * a * a\n",
        "\n",
        "print(area)\n",
        "\n",
        "print(volume)"
      ],
      "metadata": {
        "colab": {
          "base_uri": "https://localhost:8080/"
        },
        "id": "DHiNfzQ8svuH",
        "outputId": "3be4046c-2968-4f80-e051-70cceafde571"
      },
      "execution_count": 14,
      "outputs": [
        {
          "output_type": "stream",
          "name": "stdout",
          "text": [
            "5400\n",
            "27000\n"
          ]
        }
      ]
    },
    {
      "cell_type": "markdown",
      "source": [
        "#Write a code to solve the equation z=|x-y|*(x+y)"
      ],
      "metadata": {
        "id": "aABKN0nsswrm"
      }
    },
    {
      "cell_type": "code",
      "source": [
        "x = 4\n",
        "y = 3\n",
        "z = abs(x-y) * (x+y)\n",
        "print(z)\n",
        "\n"
      ],
      "metadata": {
        "colab": {
          "base_uri": "https://localhost:8080/"
        },
        "id": "0xkaml6utCDd",
        "outputId": "6e0e6b98-5d3d-4a17-8211-6f4a52570574"
      },
      "execution_count": 13,
      "outputs": [
        {
          "output_type": "stream",
          "name": "stdout",
          "text": [
            "7\n"
          ]
        }
      ]
    },
    {
      "cell_type": "markdown",
      "source": [
        "# Write pyython code for conerting 37.0 Celcius to Fehrenhit"
      ],
      "metadata": {
        "id": "_T_4d6kBtDBq"
      }
    },
    {
      "cell_type": "code",
      "source": [
        "from math import *\n",
        "F = 9/5*C +37\n",
        "\n",
        "Celsius = 37\n",
        "Fehrenhheit = 9.0/5.0 * Celsius + 32\n",
        "print(Fahrenheit)"
      ],
      "metadata": {
        "id": "tdbAB8-DtVHE"
      },
      "execution_count": null,
      "outputs": []
    },
    {
      "cell_type": "markdown",
      "source": [
        "# Write a python code to convert 180km/hr to m/s"
      ],
      "metadata": {
        "id": "Z2GO6FIVuURN"
      }
    },
    {
      "cell_type": "code",
      "source": [
        "import math\n",
        "def degree(x) :\n",
        "    pi = math . pi\n",
        "    degree = (x*180)/pi\n",
        "    return degree"
      ],
      "metadata": {
        "id": "BoBFwrJFuh1n"
      },
      "execution_count": 23,
      "outputs": []
    },
    {
      "cell_type": "markdown",
      "source": [
        "# Write a python program to convert radians to degrees "
      ],
      "metadata": {
        "id": "quS8E8zUujbb"
      }
    },
    {
      "cell_type": "code",
      "source": [
        "pi=22/7\n",
        "radian = float(input(\"Input radian: \"))\n",
        "degree = radian*(180/pi)\n",
        "print(degree)"
      ],
      "metadata": {
        "id": "Aj-zxL5Ju1Rd"
      },
      "execution_count": null,
      "outputs": []
    },
    {
      "cell_type": "markdown",
      "source": [
        "# Given two numbers, wite  a python code to find the maximum of these two numbers."
      ],
      "metadata": {
        "id": "HsxX5xIju2HZ"
      }
    },
    {
      "cell_type": "code",
      "source": [
        "a = 8\n",
        "b = 54\n",
        "\n",
        "maximum = a\n",
        "if b > a :\n",
        "    maximum = b\n",
        "print(f'MAximum of {a}, {b} is {maximum}')"
      ],
      "metadata": {
        "id": "Z8UccwD1vHcA"
      },
      "execution_count": null,
      "outputs": []
    },
    {
      "cell_type": "markdown",
      "source": [
        " # Write a python program to convert degrees to radians."
      ],
      "metadata": {
        "id": "Qdrpg8T-vIGL"
      }
    },
    {
      "cell_type": "code",
      "source": [
        "pi=22/7\n",
        "degree = float(input(\"Input degrees: \"))\n",
        "radian = degree*(pi/180)\n",
        "print(radian)"
      ],
      "metadata": {
        "id": "8MOiw5YJvSsl"
      },
      "execution_count": null,
      "outputs": []
    },
    {
      "cell_type": "markdown",
      "source": [
        "# Write a python program to convert a float to ratio."
      ],
      "metadata": {
        "id": "_pkktc1gvTSO"
      }
    },
    {
      "cell_type": "code",
      "source": [
        "from math import *\n",
        "value = 4.2\n",
        "print(Fraction(value).Iimit_denominator())"
      ],
      "metadata": {
        "id": "Oiznpqz6vfZK"
      },
      "execution_count": null,
      "outputs": []
    }
  ]
}