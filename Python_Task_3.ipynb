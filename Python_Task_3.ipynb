{
  "nbformat": 4,
  "nbformat_minor": 0,
  "metadata": {
    "colab": {
      "provenance": [],
      "include_colab_link": true
    },
    "kernelspec": {
      "name": "python3",
      "display_name": "Python 3"
    },
    "language_info": {
      "name": "python"
    }
  },
  "cells": [
    {
      "cell_type": "markdown",
      "metadata": {
        "id": "view-in-github",
        "colab_type": "text"
      },
      "source": [
        "<a href=\"https://colab.research.google.com/github/AnnetteNakiwala/Business-Intelligence/blob/main/Python_Task_3.ipynb\" target=\"_parent\"><img src=\"https://colab.research.google.com/assets/colab-badge.svg\" alt=\"Open In Colab\"/></a>"
      ]
    },
    {
      "cell_type": "markdown",
      "source": [
        "# TASK 3: INTRODUCTION TO PYTHON"
      ],
      "metadata": {
        "id": "8hJEpqYSU0gh"
      }
    },
    {
      "cell_type": "code",
      "source": [
        "# Write python code for calculating the area and volume of the Cube.\n",
        "\n"
      ],
      "metadata": {
        "id": "mraBloGOVFWV"
      },
      "execution_count": null,
      "outputs": []
    },
    {
      "cell_type": "code",
      "source": [
        "# Write a code to solve the equation z = |x − y| * (x + y)\n",
        "\n"
      ],
      "metadata": {
        "id": "xC7L2mR0VauI"
      },
      "execution_count": null,
      "outputs": []
    },
    {
      "cell_type": "code",
      "source": [
        "# Write python code for Converting 37.0 Celsius to Fahrenhit\n",
        "\n"
      ],
      "metadata": {
        "id": "DyLq1fwRVdFA"
      },
      "execution_count": null,
      "outputs": []
    },
    {
      "cell_type": "code",
      "source": [
        "# Write a python code to convert 180 Km/hr  to m/s\n",
        "\n",
        "\n"
      ],
      "metadata": {
        "id": "preOZyZgVsno"
      },
      "execution_count": null,
      "outputs": []
    },
    {
      "cell_type": "code",
      "source": [
        "# Write a Python program to convert radians to degrees.\n",
        "\n",
        "\n"
      ],
      "metadata": {
        "id": "N4CZJWFEV-bI"
      },
      "execution_count": null,
      "outputs": []
    },
    {
      "cell_type": "code",
      "source": [
        "# Given two numbers, write a Python code to find the Maximum of these two numbers.\n",
        "\n",
        "\n"
      ],
      "metadata": {
        "id": "xU6xtJYbWDdX"
      },
      "execution_count": null,
      "outputs": []
    },
    {
      "cell_type": "code",
      "source": [
        "# Write a Python program to convert degrees to radians.\n",
        "\n",
        "\n"
      ],
      "metadata": {
        "id": "qpCViFE7XfFo"
      },
      "execution_count": null,
      "outputs": []
    },
    {
      "cell_type": "code",
      "source": [
        "#  Write a Python program to convert a float to ratio.\n",
        "\n",
        "\n"
      ],
      "metadata": {
        "id": "F3iWKZIwXgwA"
      },
      "execution_count": null,
      "outputs": []
    }
  ]
}