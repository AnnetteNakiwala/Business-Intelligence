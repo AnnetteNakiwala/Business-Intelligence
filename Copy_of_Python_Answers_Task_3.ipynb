{
  "nbformat": 4,
  "nbformat_minor": 0,
  "metadata": {
    "colab": {
      "provenance": [],
      "include_colab_link": true
    },
    "kernelspec": {
      "name": "python3",
      "display_name": "Python 3"
    },
    "language_info": {
      "name": "python"
    }
  },
  "cells": [
    {
      "cell_type": "markdown",
      "metadata": {
        "id": "view-in-github",
        "colab_type": "text"
      },
      "source": [
        "<a href=\"https://colab.research.google.com/github/AnnetteNakiwala/Business-Intelligence/blob/main/Copy_of_Python_Answers_Task_3.ipynb\" target=\"_parent\"><img src=\"https://colab.research.google.com/assets/colab-badge.svg\" alt=\"Open In Colab\"/></a>"
      ]
    },
    {
      "cell_type": "markdown",
      "source": [
        "  # write a python code for calculatmg the Area and Perimeter of a Rectangle"
      ],
      "metadata": {
        "id": "lOJNk43xsEkB"
      }
    },
    {
      "cell_type": "code",
      "source": [
        "a = 2\n",
        "b = 3\n",
        "area = a*b\n",
        "perimeter = 2 * (a+b)\n",
        "\n",
        "print(area) #printing the area\n",
        "\n",
        "print(perimeter)#printing peri"
      ],
      "metadata": {
        "colab": {
          "base_uri": "https://localhost:8080/"
        },
        "id": "hl0GdK53suQm",
        "outputId": "52b66c11-455b-47f8-9a53-3682e266b259"
      },
      "execution_count": null,
      "outputs": [
        {
          "output_type": "stream",
          "name": "stdout",
          "text": [
            "6\n",
            "10\n"
          ]
        }
      ]
    },
    {
      "cell_type": "markdown",
      "source": [
        "#Write a python code for calculating the area and volume of the cube."
      ],
      "metadata": {
        "id": "IqPyJ5DqsgRz"
      }
    },
    {
      "cell_type": "code",
      "source": [
        "a = 30\n",
        "area = 6 * a * a\n",
        "volume = a * a * a\n",
        "\n",
        "print(area)\n",
        "\n",
        "print(volume)"
      ],
      "metadata": {
        "colab": {
          "base_uri": "https://localhost:8080/"
        },
        "id": "DHiNfzQ8svuH",
        "outputId": "3be4046c-2968-4f80-e051-70cceafde571"
      },
      "execution_count": null,
      "outputs": [
        {
          "output_type": "stream",
          "name": "stdout",
          "text": [
            "5400\n",
            "27000\n"
          ]
        }
      ]
    },
    {
      "cell_type": "markdown",
      "source": [
        "#Write a code to solve the equation z=|x-y|*(x+y)"
      ],
      "metadata": {
        "id": "aABKN0nsswrm"
      }
    },
    {
      "cell_type": "code",
      "source": [
        "x = 4\n",
        "y = 3\n",
        "z = abs(x-y) * (x+y)\n",
        "print(z)\n",
        "\n"
      ],
      "metadata": {
        "colab": {
          "base_uri": "https://localhost:8080/"
        },
        "id": "0xkaml6utCDd",
        "outputId": "5d233651-973f-492a-f6ed-d835a8c64ca6"
      },
      "execution_count": null,
      "outputs": [
        {
          "output_type": "stream",
          "name": "stdout",
          "text": [
            "7\n"
          ]
        }
      ]
    },
    {
      "cell_type": "markdown",
      "source": [
        "# Write pyython code for conerting 37.0 Celcius to Fehrenhit"
      ],
      "metadata": {
        "id": "_T_4d6kBtDBq"
      }
    },
    {
      "cell_type": "code",
      "source": [
        "from math import *\n",
        "F = 9/5*C +37\n",
        "\n",
        "Celsius = 37\n",
        "Fehrenhheit = 9.0/5.0 * Celsius + 32\n",
        "print(Fahrenheit)"
      ],
      "metadata": {
        "id": "tdbAB8-DtVHE"
      },
      "execution_count": null,
      "outputs": []
    },
    {
      "cell_type": "code",
      "source": [
        "#correction\n",
        "Celsius = 37\n",
        "Fehrenhheit = 9.0/5.0 * Celsius + 32\n",
        "print(Fehrenhheit)\n",
        "print(int(Fehrenhheit))"
      ],
      "metadata": {
        "id": "IQ2XkhCzjF4l",
        "outputId": "932a9ccc-234c-4d99-9b73-6408d758f8c9",
        "colab": {
          "base_uri": "https://localhost:8080/"
        }
      },
      "execution_count": null,
      "outputs": [
        {
          "output_type": "stream",
          "name": "stdout",
          "text": [
            "98.60000000000001\n",
            "98\n"
          ]
        }
      ]
    },
    {
      "cell_type": "markdown",
      "source": [
        "# Write a python code to convert 180km/hr to m/s"
      ],
      "metadata": {
        "id": "Z2GO6FIVuURN"
      }
    },
    {
      "cell_type": "code",
      "source": [
        "import math\n",
        "def degree(x) :\n",
        "    pi = math . pi\n",
        "    degree = (x*180)/pi\n",
        "    return degree"
      ],
      "metadata": {
        "id": "BoBFwrJFuh1n"
      },
      "execution_count": null,
      "outputs": []
    },
    {
      "cell_type": "code",
      "source": [
        "#correction\n",
        "speed = 180\n",
        "converted_speed = speed/3.6\n",
        "print(converted_speed)"
      ],
      "metadata": {
        "id": "AkmyeBTLjvP0",
        "outputId": "1cb249a2-3573-4c50-9d92-25ae96077189",
        "colab": {
          "base_uri": "https://localhost:8080/"
        }
      },
      "execution_count": null,
      "outputs": [
        {
          "output_type": "stream",
          "name": "stdout",
          "text": [
            "50.0\n"
          ]
        }
      ]
    },
    {
      "cell_type": "markdown",
      "source": [
        "# Write a python program to convert radians to degrees "
      ],
      "metadata": {
        "id": "quS8E8zUujbb"
      }
    },
    {
      "cell_type": "code",
      "source": [
        "pi=22/7\n",
        "radian = float(input(\"Input radian: \"))\n",
        "degree = radian*(180/pi)\n",
        "print(degree)"
      ],
      "metadata": {
        "id": "Aj-zxL5Ju1Rd",
        "outputId": "e6308eaa-bfc2-4b65-aa03-79701e8974d7",
        "colab": {
          "base_uri": "https://localhost:8080/"
        }
      },
      "execution_count": null,
      "outputs": [
        {
          "output_type": "stream",
          "name": "stdout",
          "text": [
            "Input radian: 56\n",
            "3207.2727272727275\n"
          ]
        }
      ]
    },
    {
      "cell_type": "code",
      "source": [
        "# another way\n",
        "radian = float(input(\"Input radian: \"))\n",
        "degree = radian*(180/pi)\n",
        "print(degree)"
      ],
      "metadata": {
        "id": "g-f7vZ4ikTps"
      },
      "execution_count": null,
      "outputs": []
    },
    {
      "cell_type": "markdown",
      "source": [
        "# Given two numbers, wite  a python code to find the maximum of these two numbers."
      ],
      "metadata": {
        "id": "HsxX5xIju2HZ"
      }
    },
    {
      "cell_type": "code",
      "source": [
        "a = 8\n",
        "b = 54\n",
        "\n",
        "maximum = a\n",
        "if b > a :\n",
        "    maximum = b\n",
        "print(f'MAximum of {a}, {b} is {maximum}')"
      ],
      "metadata": {
        "id": "Z8UccwD1vHcA",
        "outputId": "67d0ef5e-aebb-4119-db11-c1b9f5eab069",
        "colab": {
          "base_uri": "https://localhost:8080/"
        }
      },
      "execution_count": null,
      "outputs": [
        {
          "output_type": "stream",
          "name": "stdout",
          "text": [
            "MAximum of 8, 54 is 54\n"
          ]
        }
      ]
    },
    {
      "cell_type": "code",
      "source": [
        "# Simpler way\n",
        "x = max(8,54)\n",
        "print(x)"
      ],
      "metadata": {
        "id": "b9T7Imk2kc5E",
        "outputId": "b74e0340-e142-40e5-82ea-7b411cedbf4c",
        "colab": {
          "base_uri": "https://localhost:8080/"
        }
      },
      "execution_count": null,
      "outputs": [
        {
          "output_type": "stream",
          "name": "stdout",
          "text": [
            "54\n"
          ]
        }
      ]
    },
    {
      "cell_type": "markdown",
      "source": [
        " # Write a python program to convert degrees to radians."
      ],
      "metadata": {
        "id": "Qdrpg8T-vIGL"
      }
    },
    {
      "cell_type": "code",
      "source": [
        "pi=22/7\n",
        "degree = float(input(\"Input degrees: \"))\n",
        "radian = degree*(pi/180)\n",
        "print(radian)"
      ],
      "metadata": {
        "id": "8MOiw5YJvSsl",
        "outputId": "4abaece1-c3ba-4578-952d-5b18692d3d63",
        "colab": {
          "base_uri": "https://localhost:8080/"
        }
      },
      "execution_count": null,
      "outputs": [
        {
          "output_type": "stream",
          "name": "stdout",
          "text": [
            "Input degrees: 78\n",
            "1.361904761904762\n"
          ]
        }
      ]
    },
    {
      "cell_type": "markdown",
      "source": [
        "# Write a python program to convert a float to ratio."
      ],
      "metadata": {
        "id": "_pkktc1gvTSO"
      }
    },
    {
      "cell_type": "code",
      "source": [
        "from math import *\n",
        "value = 4.2\n",
        "print(Fraction(value).Iimit_denominator())"
      ],
      "metadata": {
        "id": "Oiznpqz6vfZK",
        "outputId": "e153187d-6823-4197-970c-e951d4bd196d",
        "colab": {
          "base_uri": "https://localhost:8080/",
          "height": 201
        }
      },
      "execution_count": null,
      "outputs": [
        {
          "output_type": "error",
          "ename": "AttributeError",
          "evalue": "ignored",
          "traceback": [
            "\u001b[0;31m---------------------------------------------------------------------------\u001b[0m",
            "\u001b[0;31mAttributeError\u001b[0m                            Traceback (most recent call last)",
            "\u001b[0;32m<ipython-input-16-876d23a35bce>\u001b[0m in \u001b[0;36m<module>\u001b[0;34m\u001b[0m\n\u001b[1;32m      1\u001b[0m \u001b[0;32mfrom\u001b[0m \u001b[0mmath\u001b[0m \u001b[0;32mimport\u001b[0m \u001b[0;34m*\u001b[0m\u001b[0;34m\u001b[0m\u001b[0;34m\u001b[0m\u001b[0m\n\u001b[1;32m      2\u001b[0m \u001b[0mvalue\u001b[0m \u001b[0;34m=\u001b[0m \u001b[0;36m4.2\u001b[0m\u001b[0;34m\u001b[0m\u001b[0;34m\u001b[0m\u001b[0m\n\u001b[0;32m----> 3\u001b[0;31m \u001b[0mprint\u001b[0m\u001b[0;34m(\u001b[0m\u001b[0mFraction\u001b[0m\u001b[0;34m(\u001b[0m\u001b[0mvalue\u001b[0m\u001b[0;34m)\u001b[0m\u001b[0;34m.\u001b[0m\u001b[0mIimit_denominator\u001b[0m\u001b[0;34m(\u001b[0m\u001b[0;34m)\u001b[0m\u001b[0;34m)\u001b[0m\u001b[0;34m\u001b[0m\u001b[0;34m\u001b[0m\u001b[0m\n\u001b[0m",
            "\u001b[0;31mAttributeError\u001b[0m: 'Fraction' object has no attribute 'Iimit_denominator'"
          ]
        }
      ]
    },
    {
      "cell_type": "code",
      "source": [
        "from fractions import Fraction\n",
        "value = 4.2\n",
        "print(Fraction(value).limit_denominator())\n",
        "\n",
        "# The limit_denominator method of the Fractions class is used to restrict the denominator value to a value that is less than or equal to the specified value for the given Fraction object. We use this method to find the rational approximations for floating-point numbers.\n"
      ],
      "metadata": {
        "id": "HuRUGuoani4j",
        "outputId": "51479cfc-f8c0-4796-a108-2ffa92e0b58d",
        "colab": {
          "base_uri": "https://localhost:8080/"
        }
      },
      "execution_count": null,
      "outputs": [
        {
          "output_type": "stream",
          "name": "stdout",
          "text": [
            "21/5\n"
          ]
        }
      ]
    }
  ]
}